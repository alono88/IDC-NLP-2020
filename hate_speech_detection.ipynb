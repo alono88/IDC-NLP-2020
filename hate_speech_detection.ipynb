{
 "cells": [
  {
   "cell_type": "markdown",
   "metadata": {},
   "source": [
    "### NLP Project - Hate Speech Detection"
   ]
  },
  {
   "cell_type": "code",
   "execution_count": 1,
   "metadata": {
    "scrolled": true
   },
   "outputs": [
    {
     "name": "stderr",
     "output_type": "stream",
     "text": [
      "[nltk_data] Downloading package punkt to\n",
      "[nltk_data]     C:\\Users\\Alon\\AppData\\Roaming\\nltk_data...\n",
      "[nltk_data]   Package punkt is already up-to-date!\n",
      "[nltk_data] Downloading package averaged_perceptron_tagger to\n",
      "[nltk_data]     C:\\Users\\Alon\\AppData\\Roaming\\nltk_data...\n",
      "[nltk_data]   Package averaged_perceptron_tagger is already up-to-\n",
      "[nltk_data]       date!\n"
     ]
    }
   ],
   "source": [
    "## system imports ##\n",
    "import os\n",
    "import re\n",
    "import copy\n",
    "\n",
    "## externel imports ##\n",
    "import nltk\n",
    "import torch \n",
    "import torchvision\n",
    "import numpy as np \n",
    "import pandas as pd\n",
    "import torch.nn as nn\n",
    "from sklearn import metrics\n",
    "import matplotlib.pyplot as plt\n",
    "import gensim.downloader as api\n",
    "from torch.nn import functional as F\n",
    "from sklearn.metrics import auc, roc_curve\n",
    "import torchvision.transforms as transforms\n",
    "from sklearn.linear_model import LogisticRegression\n",
    "\n",
    "## project imports ##\n",
    "from src.data_utils import gen_data, gen_bert_data, plot_graphs\n",
    "from src.training import train_model, train_bert_model\n",
    "from src.models import BiLSTM, AttentionModel\n",
    "\n",
    "## global settings ##\n",
    "nltk.download('punkt')\n",
    "nltk.download('averaged_perceptron_tagger')\n",
    "device = torch.device('cuda' if torch.cuda.is_available() else 'cpu')\n",
    "%matplotlib inline\n",
    "%load_ext autoreload\n",
    "%autoreload 2"
   ]
  },
  {
   "cell_type": "markdown",
   "metadata": {},
   "source": [
    "### Data Preprocessing"
   ]
  },
  {
   "cell_type": "code",
   "execution_count": 2,
   "metadata": {},
   "outputs": [
    {
     "data": {
      "text/html": [
       "<div>\n",
       "<style scoped>\n",
       "    .dataframe tbody tr th:only-of-type {\n",
       "        vertical-align: middle;\n",
       "    }\n",
       "\n",
       "    .dataframe tbody tr th {\n",
       "        vertical-align: top;\n",
       "    }\n",
       "\n",
       "    .dataframe thead th {\n",
       "        text-align: right;\n",
       "    }\n",
       "</style>\n",
       "<table border=\"1\" class=\"dataframe\">\n",
       "  <thead>\n",
       "    <tr style=\"text-align: right;\">\n",
       "      <th></th>\n",
       "      <th>headline</th>\n",
       "    </tr>\n",
       "    <tr>\n",
       "      <th>is_hate</th>\n",
       "      <th></th>\n",
       "    </tr>\n",
       "  </thead>\n",
       "  <tbody>\n",
       "    <tr>\n",
       "      <th>0</th>\n",
       "      <td>4163</td>\n",
       "    </tr>\n",
       "    <tr>\n",
       "      <th>1</th>\n",
       "      <td>20620</td>\n",
       "    </tr>\n",
       "  </tbody>\n",
       "</table>\n",
       "</div>"
      ],
      "text/plain": [
       "         headline\n",
       "is_hate          \n",
       "0            4163\n",
       "1           20620"
      ]
     },
     "execution_count": 2,
     "metadata": {},
     "output_type": "execute_result"
    }
   ],
   "source": [
    "hate_df = pd.read_csv(\"labeled_data.csv\")\n",
    "df = pd.DataFrame()\n",
    "df['headline'] = hate_df.tweet.apply(lambda x: x.lower())\n",
    "df['headline']=df['headline'].apply((lambda x: re.sub('[^a-zA-z0-9\\s]','',x)))\n",
    "df['is_hate'] = hate_df['class'].apply(lambda x: 0 if x==2 else 1)\n",
    "df.groupby('is_hate').count()"
   ]
  },
  {
   "cell_type": "code",
   "execution_count": 3,
   "metadata": {
    "scrolled": true
   },
   "outputs": [
    {
     "name": "stderr",
     "output_type": "stream",
     "text": [
      "I0906 22:43:52.024279 25880 utils_any2vec.py:341] loading projection weights from C:\\Users\\Alon/gensim-data\\glove-twitter-100\\glove-twitter-100.gz\n",
      "I0906 22:45:35.347476 25880 utils_any2vec.py:405] loaded (1193514, 100) matrix from C:\\Users\\Alon/gensim-data\\glove-twitter-100\\glove-twitter-100.gz\n"
     ]
    }
   ],
   "source": [
    "word2vec_model_dict = dict()\n",
    "word2vec_model_dict['glove-twitter-100'] = api.load('glove-twitter-100')\n",
    "curr_word2vec_model = word2vec_model_dict[\"glove-twitter-100\"]\n",
    "word2vec_model_size = len(curr_word2vec_model['unk'])\n",
    "X_train, y_train, X_val, y_val, X_test, y_test, model_sentence_length  = gen_data(df, curr_word2vec_model)"
   ]
  },
  {
   "cell_type": "markdown",
   "metadata": {},
   "source": [
    "### Logistic Regression Baseline"
   ]
  },
  {
   "cell_type": "code",
   "execution_count": 4,
   "metadata": {},
   "outputs": [
    {
     "name": "stderr",
     "output_type": "stream",
     "text": [
      "C:\\Users\\Alon\\Anaconda3\\lib\\site-packages\\sklearn\\linear_model\\logistic.py:433: FutureWarning: Default solver will be changed to 'lbfgs' in 0.22. Specify a solver to silence this warning.\n",
      "  FutureWarning)\n"
     ]
    },
    {
     "name": "stdout",
     "output_type": "stream",
     "text": [
      "LR Accuracy on training set: 0.967\n",
      "LR Accuracy on validation set: 0.911\n"
     ]
    }
   ],
   "source": [
    "X_train_flat = X_train.reshape(-1, model_sentence_length*(word2vec_model_size))\n",
    "X_val_flat = X_val.reshape(-1, model_sentence_length*(word2vec_model_size))\n",
    "X_test_flat = X_test.reshape(-1, model_sentence_length*(word2vec_model_size))\n",
    "log_reg = LogisticRegression()\n",
    "log_reg.fit(X_train_flat, y_train)\n",
    "\n",
    "print('LR Accuracy on training set: {:.3f}'.format(log_reg.score(X_train_flat, y_train)))\n",
    "print('LR Accuracy on validation set: {:.3f}'.format(log_reg.score(X_val_flat, y_val)))\n",
    "\n",
    "y_LR_test = log_reg.predict(X_test_flat)"
   ]
  },
  {
   "cell_type": "markdown",
   "metadata": {},
   "source": [
    "### Bidirectional LSTM"
   ]
  },
  {
   "cell_type": "code",
   "execution_count": 5,
   "metadata": {},
   "outputs": [],
   "source": [
    "sequence_length = model_sentence_length\n",
    "input_size = word2vec_model_size\n",
    "hidden_size = input_size\n",
    "num_layers = 2\n",
    "num_classes = 2\n",
    "batch_size = 64\n",
    "num_epochs = 8\n",
    "learning_rate = 0.005\n",
    "lstm_dropout = 0.1\n",
    "\n",
    "train_dataset = torch.utils.data.TensorDataset(torch.from_numpy(X_train).float(), torch.from_numpy(y_train).long())\n",
    "train_loader =  torch.utils.data.DataLoader(train_dataset, batch_size=batch_size, shuffle=True)\n",
    "\n",
    "test_dataset = torch.utils.data.TensorDataset(torch.from_numpy(X_test).float(), torch.from_numpy(y_test).long())\n",
    "test_loader =  torch.utils.data.DataLoader(test_dataset, batch_size=batch_size, shuffle=False)\n",
    "\n",
    "val_dataset = torch.utils.data.TensorDataset(torch.from_numpy(X_val).float(), torch.from_numpy(y_val).long())\n",
    "val_loader =  torch.utils.data.DataLoader(val_dataset, batch_size=batch_size, shuffle=False)\n",
    "\n",
    "data_loader = {\"train\" : train_loader, \"test\" : test_loader, \"val\" : val_loader}\n",
    "\n",
    "lstm_model = BiLSTM(input_size, hidden_size, num_layers, num_classes, lstm_dropout).to(device)\n",
    "criterion = nn.CrossEntropyLoss()\n",
    "optimizer = torch.optim.Adam(lstm_model.parameters(), lr=learning_rate)"
   ]
  },
  {
   "cell_type": "code",
   "execution_count": 6,
   "metadata": {
    "scrolled": false
   },
   "outputs": [
    {
     "name": "stdout",
     "output_type": "stream",
     "text": [
      "-*-*-*-*-*-*-*-*-*-*\n",
      "Epoch 1/8\n",
      "train Loss: 0.2254  |  Acc: 0.9048 \n",
      "val Loss: 0.0395  |  Acc: 0.9443 \n",
      "-*-*-*-*-*-*-*-*-*-*\n",
      "Epoch 2/8\n",
      "train Loss: 0.1676  |  Acc: 0.9406 \n",
      "val Loss: 0.0430  |  Acc: 0.9524 \n",
      "-*-*-*-*-*-*-*-*-*-*\n",
      "Epoch 3/8\n",
      "train Loss: 0.1030  |  Acc: 0.9480 \n",
      "val Loss: 0.0234  |  Acc: 0.9532 \n",
      "-*-*-*-*-*-*-*-*-*-*\n",
      "Epoch 4/8\n",
      "train Loss: 0.1059  |  Acc: 0.9510 \n",
      "val Loss: 0.0205  |  Acc: 0.9528 \n",
      "-*-*-*-*-*-*-*-*-*-*\n",
      "Epoch 5/8\n",
      "train Loss: 0.0970  |  Acc: 0.9515 \n",
      "val Loss: 0.0199  |  Acc: 0.9528 \n",
      "-*-*-*-*-*-*-*-*-*-*\n",
      "Epoch 6/8\n",
      "train Loss: 0.2591  |  Acc: 0.9513 \n",
      "val Loss: 0.0199  |  Acc: 0.9532 \n",
      "-*-*-*-*-*-*-*-*-*-*\n",
      "Epoch 7/8\n",
      "train Loss: 0.0844  |  Acc: 0.9517 \n",
      "val Loss: 0.0199  |  Acc: 0.9532 \n",
      "-*-*-*-*-*-*-*-*-*-*\n",
      "Epoch 8/8\n",
      "train Loss: 0.0222  |  Acc: 0.9517 \n",
      "val Loss: 0.0199  |  Acc: 0.9536 \n"
     ]
    }
   ],
   "source": [
    "lstm_model = train_model(lstm_model, criterion, num_epochs, data_loader, optimizer, input_size, sequence_length)"
   ]
  },
  {
   "cell_type": "code",
   "execution_count": 7,
   "metadata": {},
   "outputs": [
    {
     "data": {
      "image/png": "[encoded data removed]",
      "text/plain": [
       "<Figure size 1440x864 with 2 Axes>"
      ]
     },
     "metadata": {
      "needs_background": "light"
     },
     "output_type": "display_data"
    }
   ],
   "source": [
    "plot_graphs(lstm_model)"
   ]
  },
  {
   "cell_type": "markdown",
   "metadata": {},
   "source": [
    "### Attention"
   ]
  },
  {
   "cell_type": "code",
   "execution_count": 8,
   "metadata": {},
   "outputs": [],
   "source": [
    "sequence_length = model_sentence_length \n",
    "input_size = word2vec_model_size  \n",
    "hidden_size = input_size    \n",
    "num_layers = 2\n",
    "num_classes = 2\n",
    "batch_size = 64\n",
    "num_epochs = 8\n",
    "learning_rate = 0.005\n",
    "lstm_dropout = 0.1 \n",
    "alpha_dropout = 0.3\n",
    "\n",
    "att_model = AttentionModel(input_size, hidden_size, num_layers, num_classes, lstm_dropout, \n",
    "                       sequence_length, alpha_dropout).to(device)\n",
    "criterion = nn.CrossEntropyLoss()\n",
    "optimizer = torch.optim.Adam(att_model.parameters(), lr=learning_rate, weight_decay=0.0001)"
   ]
  },
  {
   "cell_type": "code",
   "execution_count": 9,
   "metadata": {},
   "outputs": [
    {
     "name": "stdout",
     "output_type": "stream",
     "text": [
      "-*-*-*-*-*-*-*-*-*-*\n",
      "Epoch 1/8\n",
      "train Loss: 0.1030  |  Acc: 0.9332 \n",
      "val Loss: 0.0403  |  Acc: 0.9520 \n",
      "-*-*-*-*-*-*-*-*-*-*\n",
      "Epoch 2/8\n",
      "train Loss: 0.0406  |  Acc: 0.9496 \n",
      "val Loss: 0.0346  |  Acc: 0.9492 \n",
      "-*-*-*-*-*-*-*-*-*-*\n",
      "Epoch 3/8\n",
      "train Loss: 0.1896  |  Acc: 0.9566 \n",
      "val Loss: 0.0215  |  Acc: 0.9592 \n",
      "-*-*-*-*-*-*-*-*-*-*\n",
      "Epoch 4/8\n",
      "train Loss: 0.0683  |  Acc: 0.9594 \n",
      "val Loss: 0.0177  |  Acc: 0.9592 \n",
      "-*-*-*-*-*-*-*-*-*-*\n",
      "Epoch 5/8\n",
      "train Loss: 0.1118  |  Acc: 0.9604 \n",
      "val Loss: 0.0166  |  Acc: 0.9596 \n",
      "-*-*-*-*-*-*-*-*-*-*\n",
      "Epoch 6/8\n",
      "train Loss: 0.0616  |  Acc: 0.9597 \n",
      "val Loss: 0.0165  |  Acc: 0.9596 \n",
      "-*-*-*-*-*-*-*-*-*-*\n",
      "Epoch 7/8\n",
      "train Loss: 0.0345  |  Acc: 0.9599 \n",
      "val Loss: 0.0165  |  Acc: 0.9596 \n",
      "-*-*-*-*-*-*-*-*-*-*\n",
      "Epoch 8/8\n",
      "train Loss: 0.0544  |  Acc: 0.9610 \n",
      "val Loss: 0.0165  |  Acc: 0.9596 \n"
     ]
    }
   ],
   "source": [
    "att_model = train_model(att_model, criterion, num_epochs, data_loader, optimizer, input_size, sequence_length)"
   ]
  },
  {
   "cell_type": "code",
   "execution_count": 10,
   "metadata": {},
   "outputs": [
    {
     "data": {
      "image/png": "[encoded data removed]",
      "text/plain": [
       "<Figure size 1440x864 with 2 Axes>"
      ]
     },
     "metadata": {
      "needs_background": "light"
     },
     "output_type": "display_data"
    }
   ],
   "source": [
    "plot_graphs(att_model)"
   ]
  },
  {
   "cell_type": "markdown",
   "metadata": {},
   "source": [
    "### BERT"
   ]
  },
  {
   "cell_type": "code",
   "execution_count": 15,
   "metadata": {
    "scrolled": true
   },
   "outputs": [
    {
     "name": "stderr",
     "output_type": "stream",
     "text": [
      "C:\\Users\\Alon\\Anaconda3\\lib\\site-packages\\transformers\\tokenization_utils_base.py:1770: FutureWarning: The `pad_to_max_length` argument is deprecated and will be removed in a future version, use `padding=True` or `padding='longest'` to pad to the longest sequence in the batch, or use `padding='max_length'` to pad to a max length. In this case, you can give a specific length with `max_length` (e.g. `max_length=45`) or leave max_length to None to pad to the maximal input size of the model (e.g. 512 for Bert).\n",
      "  FutureWarning,\n"
     ]
    },
    {
     "name": "stdout",
     "output_type": "stream",
     "text": [
      "19,826 training samples\n",
      "2,478 validation samples\n",
      "Original:   rt mayasolovely as a woman you shouldnt complain about cleaning up your house amp as a man you should always take the trash out\n",
      "Token IDs: tensor([  101, 19387,  9815, 19454, 21818,  2135,  2004,  1037,  2450,  2017,\n",
      "         5807,  2102, 17612,  2055,  9344,  2039,  2115,  2160, 23713,  2004,\n",
      "         1037,  2158,  2017,  2323,  2467,  2202,  1996, 11669,  2041,   102,\n",
      "            0,     0,     0,     0,     0,     0,     0,     0,     0,     0,\n",
      "            0,     0,     0,     0,     0,     0,     0,     0,     0,     0,\n",
      "            0,     0,     0,     0,     0,     0,     0,     0,     0,     0,\n",
      "            0,     0,     0,     0,     0,     0,     0,     0,     0,     0,\n",
      "            0,     0,     0,     0,     0,     0,     0,     0,     0,     0,\n",
      "            0,     0,     0,     0,     0,     0,     0,     0,     0,     0,\n",
      "            0,     0,     0,     0,     0,     0,     0,     0,     0,     0,\n",
      "            0,     0,     0,     0,     0,     0,     0,     0,     0,     0,\n",
      "            0,     0,     0,     0,     0,     0,     0,     0,     0,     0,\n",
      "            0,     0,     0,     0,     0,     0,     0,     0,     0,     0,\n",
      "            0,     0,     0,     0,     0,     0,     0,     0,     0,     0,\n",
      "            0,     0,     0,     0,     0,     0,     0,     0,     0,     0,\n",
      "            0,     0,     0,     0,     0,     0,     0,     0,     0,     0,\n",
      "            0,     0,     0,     0,     0,     0,     0,     0,     0,     0,\n",
      "            0,     0,     0,     0,     0,     0,     0,     0,     0,     0,\n",
      "            0,     0,     0,     0,     0,     0,     0,     0,     0,     0,\n",
      "            0,     0,     0,     0,     0,     0,     0,     0,     0,     0,\n",
      "            0,     0,     0,     0,     0,     0,     0,     0,     0,     0,\n",
      "            0,     0,     0,     0,     0,     0,     0,     0,     0,     0,\n",
      "            0,     0,     0,     0,     0,     0,     0,     0,     0,     0,\n",
      "            0,     0,     0,     0,     0,     0,     0,     0,     0,     0,\n",
      "            0,     0,     0,     0,     0,     0,     0,     0,     0,     0,\n",
      "            0,     0,     0,     0,     0,     0])\n",
      "Max sentence length:  162\n"
     ]
    }
   ],
   "source": [
    "from transformers import AlbertForSequenceClassification, AlbertTokenizer\n",
    "from transformers import BertForSequenceClassification, BertTokenizer\n",
    "\n",
    "tokenizer = BertTokenizer.from_pretrained('bert-base-uncased', do_lower_case=True)\n",
    "train_dataloader, validation_dataloader, test_dataloader = gen_bert_data(df, tokenizer)"
   ]
  },
  {
   "cell_type": "code",
   "execution_count": 16,
   "metadata": {},
   "outputs": [
    {
     "name": "stderr",
     "output_type": "stream",
     "text": [
      "Some weights of the model checkpoint at bert-base-uncased were not used when initializing BertForSequenceClassification: ['cls.predictions.bias', 'cls.predictions.transform.dense.weight', 'cls.predictions.transform.dense.bias', 'cls.predictions.decoder.weight', 'cls.seq_relationship.weight', 'cls.seq_relationship.bias', 'cls.predictions.transform.LayerNorm.weight', 'cls.predictions.transform.LayerNorm.bias']\n",
      "- This IS expected if you are initializing BertForSequenceClassification from the checkpoint of a model trained on another task or with another architecture (e.g. initializing a BertForSequenceClassification model from a BertForPretraining model).\n",
      "- This IS NOT expected if you are initializing BertForSequenceClassification from the checkpoint of a model that you expect to be exactly identical (initializing a BertForSequenceClassification model from a BertForSequenceClassification model).\n",
      "Some weights of BertForSequenceClassification were not initialized from the model checkpoint at bert-base-uncased and are newly initialized: ['classifier.weight', 'classifier.bias']\n",
      "You should probably TRAIN this model on a down-stream task to be able to use it for predictions and inference.\n"
     ]
    }
   ],
   "source": [
    "from transformers import BertForSequenceClassification, AdamW, BertConfig\n",
    "bert = BertForSequenceClassification.from_pretrained(\n",
    "    \"bert-base-uncased\", \n",
    "    num_labels = 2, \n",
    "    output_attentions = False, \n",
    "    output_hidden_states = False,\n",
    ")\n",
    "bert.cuda();"
   ]
  },
  {
   "cell_type": "code",
   "execution_count": 17,
   "metadata": {},
   "outputs": [],
   "source": [
    "from transformers import get_linear_schedule_with_warmup\n",
    "\n",
    "optimizer = AdamW(bert.parameters(),\n",
    "                  lr = 2e-5, # args.learning_rate - default is 5e-5, our notebook had 2e-5\n",
    "                  eps = 1e-8 # args.adam_epsilon  - default is 1e-8.\n",
    "                )\n",
    "epochs = 2\n",
    "total_steps = len(train_dataloader) * epochs\n",
    "scheduler = get_linear_schedule_with_warmup(optimizer, \n",
    "                                            num_warmup_steps = 0,\n",
    "                                            num_training_steps = total_steps)"
   ]
  },
  {
   "cell_type": "code",
   "execution_count": 18,
   "metadata": {},
   "outputs": [
    {
     "name": "stdout",
     "output_type": "stream",
     "text": [
      "\n",
      "======== Epoch 1 / 2 ========\n",
      "Training...\n",
      "  Batch    40  of  1,240.    Elapsed: 0:00:15.\n",
      "  Batch    80  of  1,240.    Elapsed: 0:00:29.\n",
      "  Batch   120  of  1,240.    Elapsed: 0:00:44.\n",
      "  Batch   160  of  1,240.    Elapsed: 0:00:59.\n",
      "  Batch   200  of  1,240.    Elapsed: 0:01:14.\n",
      "  Batch   240  of  1,240.    Elapsed: 0:01:29.\n",
      "  Batch   280  of  1,240.    Elapsed: 0:01:43.\n",
      "  Batch   320  of  1,240.    Elapsed: 0:01:58.\n",
      "  Batch   360  of  1,240.    Elapsed: 0:02:13.\n",
      "  Batch   400  of  1,240.    Elapsed: 0:02:27.\n",
      "  Batch   440  of  1,240.    Elapsed: 0:02:42.\n",
      "  Batch   480  of  1,240.    Elapsed: 0:02:55.\n",
      "  Batch   520  of  1,240.    Elapsed: 0:03:09.\n",
      "  Batch   560  of  1,240.    Elapsed: 0:03:23.\n",
      "  Batch   600  of  1,240.    Elapsed: 0:03:37.\n",
      "  Batch   640  of  1,240.    Elapsed: 0:03:51.\n",
      "  Batch   680  of  1,240.    Elapsed: 0:04:05.\n",
      "  Batch   720  of  1,240.    Elapsed: 0:04:19.\n",
      "  Batch   760  of  1,240.    Elapsed: 0:04:34.\n",
      "  Batch   800  of  1,240.    Elapsed: 0:04:48.\n",
      "  Batch   840  of  1,240.    Elapsed: 0:05:02.\n",
      "  Batch   880  of  1,240.    Elapsed: 0:05:16.\n",
      "  Batch   920  of  1,240.    Elapsed: 0:05:31.\n",
      "  Batch   960  of  1,240.    Elapsed: 0:05:45.\n",
      "  Batch 1,000  of  1,240.    Elapsed: 0:06:00.\n",
      "  Batch 1,040  of  1,240.    Elapsed: 0:06:14.\n",
      "  Batch 1,080  of  1,240.    Elapsed: 0:06:28.\n",
      "  Batch 1,120  of  1,240.    Elapsed: 0:06:42.\n",
      "  Batch 1,160  of  1,240.    Elapsed: 0:06:57.\n",
      "  Batch 1,200  of  1,240.    Elapsed: 0:07:11.\n",
      "\n",
      "  Average training loss: 0.15\n",
      "  Training epcoh took: 0:07:25\n",
      "\n",
      "Running Validation...\n",
      "  Accuracy: 0.96\n",
      "  Validation Loss: 0.13\n",
      "  Validation took: 0:00:16\n",
      "\n",
      "======== Epoch 2 / 2 ========\n",
      "Training...\n",
      "  Batch    40  of  1,240.    Elapsed: 0:00:14.\n",
      "  Batch    80  of  1,240.    Elapsed: 0:00:28.\n",
      "  Batch   120  of  1,240.    Elapsed: 0:00:43.\n",
      "  Batch   160  of  1,240.    Elapsed: 0:00:57.\n",
      "  Batch   200  of  1,240.    Elapsed: 0:01:11.\n",
      "  Batch   240  of  1,240.    Elapsed: 0:01:25.\n",
      "  Batch   280  of  1,240.    Elapsed: 0:01:39.\n",
      "  Batch   320  of  1,240.    Elapsed: 0:01:54.\n",
      "  Batch   360  of  1,240.    Elapsed: 0:02:08.\n",
      "  Batch   400  of  1,240.    Elapsed: 0:02:22.\n",
      "  Batch   440  of  1,240.    Elapsed: 0:02:36.\n",
      "  Batch   480  of  1,240.    Elapsed: 0:02:51.\n",
      "  Batch   520  of  1,240.    Elapsed: 0:03:05.\n",
      "  Batch   560  of  1,240.    Elapsed: 0:03:19.\n",
      "  Batch   600  of  1,240.    Elapsed: 0:03:33.\n",
      "  Batch   640  of  1,240.    Elapsed: 0:03:48.\n",
      "  Batch   680  of  1,240.    Elapsed: 0:04:02.\n",
      "  Batch   720  of  1,240.    Elapsed: 0:04:16.\n",
      "  Batch   760  of  1,240.    Elapsed: 0:04:30.\n",
      "  Batch   800  of  1,240.    Elapsed: 0:04:44.\n",
      "  Batch   840  of  1,240.    Elapsed: 0:04:58.\n",
      "  Batch   880  of  1,240.    Elapsed: 0:05:12.\n",
      "  Batch   920  of  1,240.    Elapsed: 0:05:27.\n",
      "  Batch   960  of  1,240.    Elapsed: 0:05:41.\n",
      "  Batch 1,000  of  1,240.    Elapsed: 0:05:55.\n",
      "  Batch 1,040  of  1,240.    Elapsed: 0:06:10.\n",
      "  Batch 1,080  of  1,240.    Elapsed: 0:06:25.\n",
      "  Batch 1,120  of  1,240.    Elapsed: 0:06:39.\n",
      "  Batch 1,160  of  1,240.    Elapsed: 0:06:54.\n",
      "  Batch 1,200  of  1,240.    Elapsed: 0:07:08.\n",
      "\n",
      "  Average training loss: 0.09\n",
      "  Training epcoh took: 0:07:22\n",
      "\n",
      "Running Validation...\n",
      "  Accuracy: 0.96\n",
      "  Validation Loss: 0.14\n",
      "  Validation took: 0:00:15\n",
      "\n",
      "Training complete!\n",
      "Total training took 0:15:18 (h:mm:ss)\n"
     ]
    }
   ],
   "source": [
    "bert, training_stats = train_bert_model(bert, train_dataloader, validation_dataloader, epochs, optimizer, scheduler)"
   ]
  },
  {
   "cell_type": "code",
   "execution_count": 19,
   "metadata": {},
   "outputs": [
    {
     "data": {
      "text/html": [
       "<div>\n",
       "<style scoped>\n",
       "    .dataframe tbody tr th:only-of-type {\n",
       "        vertical-align: middle;\n",
       "    }\n",
       "\n",
       "    .dataframe tbody tr th {\n",
       "        vertical-align: top;\n",
       "    }\n",
       "\n",
       "    .dataframe thead th {\n",
       "        text-align: right;\n",
       "    }\n",
       "</style>\n",
       "<table border=\"1\" class=\"dataframe\">\n",
       "  <thead>\n",
       "    <tr style=\"text-align: right;\">\n",
       "      <th></th>\n",
       "      <th>Training Loss</th>\n",
       "      <th>Valid. Loss</th>\n",
       "      <th>Valid. Accur.</th>\n",
       "      <th>Training Time</th>\n",
       "      <th>Validation Time</th>\n",
       "    </tr>\n",
       "    <tr>\n",
       "      <th>epoch</th>\n",
       "      <th></th>\n",
       "      <th></th>\n",
       "      <th></th>\n",
       "      <th></th>\n",
       "      <th></th>\n",
       "    </tr>\n",
       "  </thead>\n",
       "  <tbody>\n",
       "    <tr>\n",
       "      <th>1</th>\n",
       "      <td>0.15</td>\n",
       "      <td>0.13</td>\n",
       "      <td>0.96</td>\n",
       "      <td>0:07:25</td>\n",
       "      <td>0:00:16</td>\n",
       "    </tr>\n",
       "    <tr>\n",
       "      <th>2</th>\n",
       "      <td>0.09</td>\n",
       "      <td>0.14</td>\n",
       "      <td>0.96</td>\n",
       "      <td>0:07:22</td>\n",
       "      <td>0:00:15</td>\n",
       "    </tr>\n",
       "  </tbody>\n",
       "</table>\n",
       "</div>"
      ],
      "text/plain": [
       "       Training Loss  Valid. Loss  Valid. Accur. Training Time Validation Time\n",
       "epoch                                                                         \n",
       "1               0.15         0.13           0.96       0:07:25         0:00:16\n",
       "2               0.09         0.14           0.96       0:07:22         0:00:15"
      ]
     },
     "execution_count": 19,
     "metadata": {},
     "output_type": "execute_result"
    }
   ],
   "source": [
    "import pandas as pd\n",
    "pd.set_option('precision', 2)\n",
    "df_stats = pd.DataFrame(data=training_stats)\n",
    "df_stats = df_stats.set_index('epoch')\n",
    "df_stats"
   ]
  },
  {
   "cell_type": "code",
   "execution_count": 20,
   "metadata": {},
   "outputs": [
    {
     "data": {
      "image/png": "[encoded data removed]",
      "text/plain": [
       "<Figure size 864x432 with 1 Axes>"
      ]
     },
     "metadata": {
      "needs_background": "light"
     },
     "output_type": "display_data"
    }
   ],
   "source": [
    "import matplotlib.pyplot as plt\n",
    "\n",
    "plt.rcParams[\"figure.figsize\"] = (12,6)\n",
    "plt.plot(df_stats['Training Loss'], 'b-o', label=\"Training\")\n",
    "plt.plot(df_stats['Valid. Loss'], 'g-o', label=\"Validation\")\n",
    "plt.title(\"Training & Validation Loss\")\n",
    "plt.xlabel(\"Epoch\")\n",
    "plt.ylabel(\"Loss\")\n",
    "plt.legend()\n",
    "plt.xticks([1, 2, 3, 4])\n",
    "\n",
    "plt.show()"
   ]
  },
  {
   "cell_type": "code",
   "execution_count": 21,
   "metadata": {},
   "outputs": [
    {
     "name": "stdout",
     "output_type": "stream",
     "text": [
      "Predicting labels for 155 test sentences...\n",
      "DONE\n"
     ]
    }
   ],
   "source": [
    "print('Predicting labels for {:,} test sentences...'.format(len(test_dataloader)))\n",
    "\n",
    "bert.eval()\n",
    "predictions_bert , true_labels_bert = [], []\n",
    "for batch in test_dataloader:\n",
    "    batch = tuple(t.to(device) for t in batch)\n",
    "    b_input_ids, b_input_mask, b_labels = batch\n",
    "    with torch.no_grad():\n",
    "        outputs = bert(b_input_ids, token_type_ids=None, \n",
    "                      attention_mask=b_input_mask)\n",
    "\n",
    "    logits = outputs[0]\n",
    "    logits = logits.detach().cpu().numpy()\n",
    "    label_ids = b_labels.to('cpu').numpy()\n",
    "    predictions_bert.append(logits)\n",
    "    true_labels_bert.append(label_ids)\n",
    "print('DONE')"
   ]
  },
  {
   "cell_type": "code",
   "execution_count": 22,
   "metadata": {},
   "outputs": [],
   "source": [
    "flat_predictions_bert = np.concatenate(predictions_bert, axis=0)\n",
    "flat_predictions_bert = np.argmax(flat_predictions_bert, axis=1).flatten()"
   ]
  },
  {
   "cell_type": "markdown",
   "metadata": {},
   "source": [
    "### Albert"
   ]
  },
  {
   "cell_type": "code",
   "execution_count": 23,
   "metadata": {},
   "outputs": [
    {
     "name": "stderr",
     "output_type": "stream",
     "text": [
      "C:\\Users\\Alon\\Anaconda3\\lib\\site-packages\\transformers\\tokenization_utils_base.py:1770: FutureWarning: The `pad_to_max_length` argument is deprecated and will be removed in a future version, use `padding=True` or `padding='longest'` to pad to the longest sequence in the batch, or use `padding='max_length'` to pad to a max length. In this case, you can give a specific length with `max_length` (e.g. `max_length=45`) or leave max_length to None to pad to the maximal input size of the model (e.g. 512 for Bert).\n",
      "  FutureWarning,\n"
     ]
    },
    {
     "name": "stdout",
     "output_type": "stream",
     "text": [
      "19,826 training samples\n",
      "2,478 validation samples\n",
      "Original:   rt mayasolovely as a woman you shouldnt complain about cleaning up your house amp as a man you should always take the trash out\n",
      "Token IDs: tensor([    2,    13,  5256, 10473,   656,  4583,   102,    28,    21,   524,\n",
      "           42, 18249, 15310,    88,  9724,    71,   154,   191, 14308,    28,\n",
      "           21,   169,    42,   378,   550,   247,    14, 10744,    70,     3,\n",
      "            0,     0,     0,     0,     0,     0,     0,     0,     0,     0,\n",
      "            0,     0,     0,     0,     0,     0,     0,     0,     0,     0,\n",
      "            0,     0,     0,     0,     0,     0,     0,     0,     0,     0,\n",
      "            0,     0,     0,     0,     0,     0,     0,     0,     0,     0,\n",
      "            0,     0,     0,     0,     0,     0,     0,     0,     0,     0,\n",
      "            0,     0,     0,     0,     0,     0,     0,     0,     0,     0,\n",
      "            0,     0,     0,     0,     0,     0,     0,     0,     0,     0,\n",
      "            0,     0,     0,     0,     0,     0,     0,     0,     0,     0,\n",
      "            0,     0,     0,     0,     0,     0,     0,     0,     0,     0,\n",
      "            0,     0,     0,     0,     0,     0,     0,     0,     0,     0,\n",
      "            0,     0,     0,     0,     0,     0,     0,     0,     0,     0,\n",
      "            0,     0,     0,     0,     0,     0,     0,     0,     0,     0,\n",
      "            0,     0,     0,     0,     0,     0,     0,     0,     0,     0,\n",
      "            0,     0,     0,     0,     0,     0,     0,     0,     0,     0,\n",
      "            0,     0,     0,     0,     0,     0,     0,     0,     0,     0,\n",
      "            0,     0,     0,     0,     0,     0,     0,     0,     0,     0,\n",
      "            0,     0,     0,     0,     0,     0,     0,     0,     0,     0,\n",
      "            0,     0,     0,     0,     0,     0,     0,     0,     0,     0,\n",
      "            0,     0,     0,     0,     0,     0,     0,     0,     0,     0,\n",
      "            0,     0,     0,     0,     0,     0,     0,     0,     0,     0,\n",
      "            0,     0,     0,     0,     0,     0,     0,     0,     0,     0,\n",
      "            0,     0,     0,     0,     0,     0,     0,     0,     0,     0,\n",
      "            0,     0,     0,     0,     0,     0])\n",
      "Max sentence length:  172\n"
     ]
    }
   ],
   "source": [
    "tokenizer = AlbertTokenizer.from_pretrained('albert-base-v2', do_lower_case=True)\n",
    "train_dataloader, validation_dataloader, test_dataloader = gen_bert_data(df, tokenizer)"
   ]
  },
  {
   "cell_type": "code",
   "execution_count": 24,
   "metadata": {},
   "outputs": [
    {
     "name": "stderr",
     "output_type": "stream",
     "text": [
      "Some weights of the model checkpoint at albert-base-v2 were not used when initializing AlbertForSequenceClassification: ['predictions.bias', 'predictions.LayerNorm.weight', 'predictions.LayerNorm.bias', 'predictions.dense.weight', 'predictions.dense.bias', 'predictions.decoder.weight', 'predictions.decoder.bias']\n",
      "- This IS expected if you are initializing AlbertForSequenceClassification from the checkpoint of a model trained on another task or with another architecture (e.g. initializing a BertForSequenceClassification model from a BertForPretraining model).\n",
      "- This IS NOT expected if you are initializing AlbertForSequenceClassification from the checkpoint of a model that you expect to be exactly identical (initializing a BertForSequenceClassification model from a BertForSequenceClassification model).\n",
      "Some weights of AlbertForSequenceClassification were not initialized from the model checkpoint at albert-base-v2 and are newly initialized: ['classifier.weight', 'classifier.bias']\n",
      "You should probably TRAIN this model on a down-stream task to be able to use it for predictions and inference.\n"
     ]
    }
   ],
   "source": [
    "albert = AlbertForSequenceClassification.from_pretrained(\n",
    "    \"albert-base-v2\", \n",
    "    num_labels = 2, \n",
    "    output_attentions = False, # Whether the model returns attentions weights.\n",
    "    output_hidden_states = False, # Whether the model returns all hidden-states.\n",
    ")\n",
    "\n",
    "optimizer = AdamW(albert.parameters(),\n",
    "                  lr = 2e-5, \n",
    "                  eps = 1e-8\n",
    "                )\n",
    "\n",
    "epochs = 3\n",
    "total_steps = len(train_dataloader) * epochs\n",
    "scheduler = get_linear_schedule_with_warmup(optimizer, \n",
    "                                            num_warmup_steps = 0,\n",
    "                                            num_training_steps = total_steps)\n",
    "albert.cuda();"
   ]
  },
  {
   "cell_type": "code",
   "execution_count": 25,
   "metadata": {},
   "outputs": [
    {
     "name": "stdout",
     "output_type": "stream",
     "text": [
      "\n",
      "======== Epoch 1 / 3 ========\n",
      "Training...\n",
      "  Batch    40  of  1,240.    Elapsed: 0:00:14.\n",
      "  Batch    80  of  1,240.    Elapsed: 0:00:27.\n",
      "  Batch   120  of  1,240.    Elapsed: 0:00:41.\n",
      "  Batch   160  of  1,240.    Elapsed: 0:00:56.\n",
      "  Batch   200  of  1,240.    Elapsed: 0:01:10.\n",
      "  Batch   240  of  1,240.    Elapsed: 0:01:25.\n",
      "  Batch   280  of  1,240.    Elapsed: 0:01:40.\n",
      "  Batch   320  of  1,240.    Elapsed: 0:01:53.\n",
      "  Batch   360  of  1,240.    Elapsed: 0:02:07.\n",
      "  Batch   400  of  1,240.    Elapsed: 0:02:21.\n",
      "  Batch   440  of  1,240.    Elapsed: 0:02:36.\n",
      "  Batch   480  of  1,240.    Elapsed: 0:02:51.\n",
      "  Batch   520  of  1,240.    Elapsed: 0:03:05.\n",
      "  Batch   560  of  1,240.    Elapsed: 0:03:20.\n",
      "  Batch   600  of  1,240.    Elapsed: 0:03:34.\n",
      "  Batch   640  of  1,240.    Elapsed: 0:03:48.\n",
      "  Batch   680  of  1,240.    Elapsed: 0:04:03.\n",
      "  Batch   720  of  1,240.    Elapsed: 0:04:17.\n",
      "  Batch   760  of  1,240.    Elapsed: 0:04:32.\n",
      "  Batch   800  of  1,240.    Elapsed: 0:04:46.\n",
      "  Batch   840  of  1,240.    Elapsed: 0:05:00.\n",
      "  Batch   880  of  1,240.    Elapsed: 0:05:15.\n",
      "  Batch   920  of  1,240.    Elapsed: 0:05:30.\n",
      "  Batch   960  of  1,240.    Elapsed: 0:05:44.\n",
      "  Batch 1,000  of  1,240.    Elapsed: 0:05:58.\n",
      "  Batch 1,040  of  1,240.    Elapsed: 0:06:13.\n",
      "  Batch 1,080  of  1,240.    Elapsed: 0:06:27.\n",
      "  Batch 1,120  of  1,240.    Elapsed: 0:06:41.\n",
      "  Batch 1,160  of  1,240.    Elapsed: 0:06:55.\n",
      "  Batch 1,200  of  1,240.    Elapsed: 0:07:09.\n",
      "\n",
      "  Average training loss: 0.18\n",
      "  Training epcoh took: 0:07:24\n",
      "\n",
      "Running Validation...\n",
      "  Accuracy: 0.95\n",
      "  Validation Loss: 0.16\n",
      "  Validation took: 0:00:20\n",
      "\n",
      "======== Epoch 2 / 3 ========\n",
      "Training...\n",
      "  Batch    40  of  1,240.    Elapsed: 0:00:14.\n",
      "  Batch    80  of  1,240.    Elapsed: 0:00:29.\n",
      "  Batch   120  of  1,240.    Elapsed: 0:00:43.\n",
      "  Batch   160  of  1,240.    Elapsed: 0:00:58.\n",
      "  Batch   200  of  1,240.    Elapsed: 0:01:13.\n",
      "  Batch   240  of  1,240.    Elapsed: 0:01:27.\n",
      "  Batch   280  of  1,240.    Elapsed: 0:01:41.\n",
      "  Batch   320  of  1,240.    Elapsed: 0:01:56.\n",
      "  Batch   360  of  1,240.    Elapsed: 0:02:11.\n",
      "  Batch   400  of  1,240.    Elapsed: 0:02:26.\n",
      "  Batch   440  of  1,240.    Elapsed: 0:02:40.\n",
      "  Batch   480  of  1,240.    Elapsed: 0:02:54.\n",
      "  Batch   520  of  1,240.    Elapsed: 0:03:09.\n",
      "  Batch   560  of  1,240.    Elapsed: 0:03:23.\n",
      "  Batch   600  of  1,240.    Elapsed: 0:03:37.\n",
      "  Batch   640  of  1,240.    Elapsed: 0:03:51.\n",
      "  Batch   680  of  1,240.    Elapsed: 0:04:06.\n",
      "  Batch   720  of  1,240.    Elapsed: 0:04:20.\n",
      "  Batch   760  of  1,240.    Elapsed: 0:04:34.\n",
      "  Batch   800  of  1,240.    Elapsed: 0:04:48.\n",
      "  Batch   840  of  1,240.    Elapsed: 0:05:02.\n",
      "  Batch   880  of  1,240.    Elapsed: 0:05:17.\n",
      "  Batch   920  of  1,240.    Elapsed: 0:05:31.\n",
      "  Batch   960  of  1,240.    Elapsed: 0:05:45.\n",
      "  Batch 1,000  of  1,240.    Elapsed: 0:05:59.\n",
      "  Batch 1,040  of  1,240.    Elapsed: 0:06:14.\n",
      "  Batch 1,080  of  1,240.    Elapsed: 0:06:28.\n",
      "  Batch 1,120  of  1,240.    Elapsed: 0:06:42.\n",
      "  Batch 1,160  of  1,240.    Elapsed: 0:06:57.\n",
      "  Batch 1,200  of  1,240.    Elapsed: 0:07:11.\n",
      "\n",
      "  Average training loss: 0.13\n",
      "  Training epcoh took: 0:07:25\n",
      "\n",
      "Running Validation...\n",
      "  Accuracy: 0.97\n",
      "  Validation Loss: 0.13\n",
      "  Validation took: 0:00:20\n",
      "\n",
      "======== Epoch 3 / 3 ========\n",
      "Training...\n",
      "  Batch    40  of  1,240.    Elapsed: 0:00:14.\n",
      "  Batch    80  of  1,240.    Elapsed: 0:00:28.\n",
      "  Batch   120  of  1,240.    Elapsed: 0:00:42.\n",
      "  Batch   160  of  1,240.    Elapsed: 0:00:56.\n",
      "  Batch   200  of  1,240.    Elapsed: 0:01:10.\n",
      "  Batch   240  of  1,240.    Elapsed: 0:01:24.\n",
      "  Batch   280  of  1,240.    Elapsed: 0:01:39.\n",
      "  Batch   320  of  1,240.    Elapsed: 0:01:53.\n",
      "  Batch   360  of  1,240.    Elapsed: 0:02:07.\n",
      "  Batch   400  of  1,240.    Elapsed: 0:02:21.\n",
      "  Batch   440  of  1,240.    Elapsed: 0:02:36.\n",
      "  Batch   480  of  1,240.    Elapsed: 0:02:50.\n",
      "  Batch   520  of  1,240.    Elapsed: 0:03:04.\n",
      "  Batch   560  of  1,240.    Elapsed: 0:03:18.\n",
      "  Batch   600  of  1,240.    Elapsed: 0:03:32.\n",
      "  Batch   640  of  1,240.    Elapsed: 0:03:46.\n",
      "  Batch   680  of  1,240.    Elapsed: 0:04:00.\n",
      "  Batch   720  of  1,240.    Elapsed: 0:04:14.\n",
      "  Batch   760  of  1,240.    Elapsed: 0:04:28.\n",
      "  Batch   800  of  1,240.    Elapsed: 0:04:42.\n",
      "  Batch   840  of  1,240.    Elapsed: 0:04:56.\n",
      "  Batch   880  of  1,240.    Elapsed: 0:05:11.\n",
      "  Batch   920  of  1,240.    Elapsed: 0:05:25.\n",
      "  Batch   960  of  1,240.    Elapsed: 0:05:40.\n",
      "  Batch 1,000  of  1,240.    Elapsed: 0:05:54.\n",
      "  Batch 1,040  of  1,240.    Elapsed: 0:06:08.\n",
      "  Batch 1,080  of  1,240.    Elapsed: 0:06:23.\n",
      "  Batch 1,120  of  1,240.    Elapsed: 0:06:37.\n",
      "  Batch 1,160  of  1,240.    Elapsed: 0:06:51.\n",
      "  Batch 1,200  of  1,240.    Elapsed: 0:07:06.\n",
      "\n",
      "  Average training loss: 0.10\n",
      "  Training epcoh took: 0:07:20\n",
      "\n",
      "Running Validation...\n",
      "  Accuracy: 0.96\n",
      "  Validation Loss: 0.14\n",
      "  Validation took: 0:00:20\n",
      "\n",
      "Training complete!\n",
      "Total training took 0:23:09 (h:mm:ss)\n"
     ]
    }
   ],
   "source": [
    "albert, training_stats = train_bert_model(albert, train_dataloader, validation_dataloader, epochs, optimizer, scheduler)"
   ]
  },
  {
   "cell_type": "code",
   "execution_count": 26,
   "metadata": {},
   "outputs": [
    {
     "name": "stdout",
     "output_type": "stream",
     "text": [
      "Predicting labels for 155 test sentences...\n",
      "DONE\n"
     ]
    }
   ],
   "source": [
    "print('Predicting labels for {:,} test sentences...'.format(len(test_dataloader)))\n",
    "\n",
    "albert.eval()\n",
    "predictions_albert , true_labels_albert = [], []\n",
    "for batch in test_dataloader:\n",
    "    batch = tuple(t.to(device) for t in batch)\n",
    "    b_input_ids, b_input_mask, b_labels = batch\n",
    "    with torch.no_grad():\n",
    "        outputs = bert(b_input_ids, token_type_ids=None, \n",
    "                      attention_mask=b_input_mask)\n",
    "\n",
    "    logits = outputs[0]\n",
    "    logits = logits.detach().cpu().numpy()\n",
    "    label_ids = b_labels.to('cpu').numpy()\n",
    "    predictions_albert.append(logits)\n",
    "    true_labels_albert.append(label_ids)\n",
    "print('DONE')"
   ]
  },
  {
   "cell_type": "code",
   "execution_count": 27,
   "metadata": {},
   "outputs": [],
   "source": [
    "flat_predictions_albert = np.concatenate(predictions_albert, axis=0)\n",
    "flat_predictions_albert = np.argmax(flat_predictions_albert, axis=1).flatten()"
   ]
  },
  {
   "cell_type": "markdown",
   "metadata": {},
   "source": [
    "## Results Summary"
   ]
  },
  {
   "cell_type": "code",
   "execution_count": 28,
   "metadata": {},
   "outputs": [],
   "source": [
    "# bert\n",
    "fpr_BERT, tpr_BERT, thresholds_BERT = roc_curve(np.concatenate(true_labels_bert), flat_predictions_bert)\n",
    "auc_BERT = metrics.auc(fpr_BERT, tpr_BERT)\n",
    "\n",
    "# albert\n",
    "fpr_ALBERT, tpr_ALBERT, thresholds_ALBERT = roc_curve(np.concatenate(true_labels_albert), flat_predictions_albert)\n",
    "auc_ALBERT = metrics.auc(fpr_ALBERT, tpr_ALBERT)"
   ]
  },
  {
   "cell_type": "code",
   "execution_count": 30,
   "metadata": {},
   "outputs": [
    {
     "data": {
      "image/png": "[encoded data removed]",
      "text/plain": [
       "<Figure size 1440x864 with 1 Axes>"
      ]
     },
     "metadata": {
      "needs_background": "light"
     },
     "output_type": "display_data"
    }
   ],
   "source": [
    "# LR \n",
    "fpr_LR, tpr_LR, thresholds_LR = roc_curve(y_test, y_LR_test)\n",
    "auc_LR = metrics.auc(fpr_LR, tpr_LR)\n",
    "\n",
    "# LSTM  \n",
    "res_lstm = lstm_model(torch.from_numpy(X_test).float().to(device)).to('cpu').detach().numpy()\n",
    "y_test_lstm = res_lstm[:, 1]\n",
    "\n",
    "fpr_lstm, tpr_lstm, thresholds_lstm = roc_curve(y_test, y_test_lstm)\n",
    "auc_lstm = metrics.auc(fpr_lstm, tpr_lstm) \n",
    "\n",
    "# attention \n",
    "res_att = att_model(torch.from_numpy(X_test).float().to(device)).to('cpu').detach().numpy()\n",
    "y_test_att = res_att[:, 1]\n",
    "\n",
    "fpr_att, tpr_att, thresholds_att = roc_curve(y_test, y_test_att)\n",
    "auc_att = metrics.auc(fpr_att, tpr_att) \n",
    "\n",
    "plt.figure(1, figsize=(20,12))\n",
    "plt.plot([0, 1], [0, 1], 'black')\n",
    "plt.plot(fpr_LR, tpr_LR, label='Predicted LR (area = {:.3f})'.format(auc_LR))\n",
    "plt.plot(fpr_lstm, tpr_lstm, label='Predicted lstm (area = {:.3f})'.format(auc_lstm))\n",
    "plt.plot(fpr_att, tpr_att, label='Predicted attention (area = {:.3f})'.format(auc_att))\n",
    "plt.plot(fpr_BERT, tpr_BERT, label='Predicted BERT (area = {:.3f})'.format(auc_BERT))\n",
    "plt.plot(fpr_ALBERT, tpr_ALBERT, label='Predicted ALBERT (area = {:.3f})'.format(auc_ALBERT))\n",
    "\n",
    "plt.xlabel('False positive rate')\n",
    "plt.ylabel('True positive rate')\n",
    "plt.title('ROC curve')\n",
    "plt.legend(loc='best')\n",
    "plt.show()"
   ]
  },
  {
   "cell_type": "markdown",
   "metadata": {},
   "source": [
    "# Hyper Parameter Search"
   ]
  },
  {
   "cell_type": "code",
   "execution_count": 31,
   "metadata": {
    "scrolled": true
   },
   "outputs": [
    {
     "name": "stdout",
     "output_type": "stream",
     "text": [
      "Training model with learning_rate=0.001, dropout=0.3, weight_decay=1e-05\n",
      "Training model with learning_rate=0.001, dropout=0.3, weight_decay=1e-06\n",
      "Training model with learning_rate=0.001, dropout=0.5, weight_decay=1e-05\n",
      "Training model with learning_rate=0.001, dropout=0.5, weight_decay=1e-06\n",
      "Training model with learning_rate=0.002, dropout=0.3, weight_decay=1e-05\n",
      "Training model with learning_rate=0.002, dropout=0.3, weight_decay=1e-06\n",
      "Training model with learning_rate=0.002, dropout=0.5, weight_decay=1e-05\n",
      "Training model with learning_rate=0.002, dropout=0.5, weight_decay=1e-06\n"
     ]
    }
   ],
   "source": [
    "import itertools\n",
    "\n",
    "learning_rates = [1e-3, 2e-3]  # refined after some trials...\n",
    "dropouts = [0.3, 0.5] \n",
    "weight_decays = [1e-5, 1e-6]\n",
    "\n",
    "results = {}\n",
    "best_val = -1   \n",
    "best_stats = -1   \n",
    "\n",
    "best_net = None \n",
    "for learning_rate, dropout, weight_decay in itertools.product(learning_rates, dropouts, weight_decays):\n",
    "    print(\"Training model with learning_rate={}, dropout={}, weight_decay={}\".format(learning_rate, dropout, weight_decay))\n",
    "    learning_rate = learning_rate\n",
    "    lstm_dropout = dropout\n",
    "    alpha_dropout = dropout\n",
    "\n",
    "    attention_model = AttentionModel(input_size, hidden_size, num_layers, num_classes, lstm_dropout, \n",
    "                       sequence_length, alpha_dropout).to(device)\n",
    "    criterion = nn.CrossEntropyLoss()\n",
    "    optimizer = torch.optim.Adam(attention_model.parameters(), lr=learning_rate, weight_decay=weight_decay)\n",
    "    curr_attention_model = train_model(attention_model, criterion, num_epochs, data_loader, optimizer,\n",
    "                                     input_size, sequence_length, verbose=False)\n",
    "    training_accuracy = curr_attention_model.train_acc[-1]\n",
    "    validation_accuracy = curr_attention_model.best_val_acc\n",
    "    results[(learning_rate, dropout, weight_decay)] = (training_accuracy, validation_accuracy)\n",
    "    if validation_accuracy > best_val:\n",
    "        best_model = curr_attention_model\n",
    "        best_val = validation_accuracy"
   ]
  },
  {
   "cell_type": "code",
   "execution_count": 32,
   "metadata": {},
   "outputs": [
    {
     "name": "stdout",
     "output_type": "stream",
     "text": [
      "lr 0.001 dropout 0.3 weight_dec 0.000001 train accuracy: 0.96 val accuracy: 0.954399 \n",
      "lr 0.001 dropout 0.3 weight_dec 0.000010 train accuracy: 0.96 val accuracy: 0.955609 \n",
      "lr 0.001 dropout 0.5 weight_dec 0.000001 train accuracy: 0.95 val accuracy: 0.954399 \n",
      "lr 0.001 dropout 0.5 weight_dec 0.000010 train accuracy: 0.96 val accuracy: 0.956416 \n",
      "lr 0.002 dropout 0.3 weight_dec 0.000001 train accuracy: 0.96 val accuracy: 0.958838 \n",
      "lr 0.002 dropout 0.3 weight_dec 0.000010 train accuracy: 0.96 val accuracy: 0.960048 \n",
      "lr 0.002 dropout 0.5 weight_dec 0.000001 train accuracy: 0.96 val accuracy: 0.961663 \n",
      "lr 0.002 dropout 0.5 weight_dec 0.000010 train accuracy: 0.96 val accuracy: 0.959241 \n",
      "best validation accuracy achieved during validation: 0.961663\n"
     ]
    }
   ],
   "source": [
    "for learn_rate, dropout, weight_dec in sorted(results):\n",
    "    train_accuracy, val_accuracy = results[(learn_rate, dropout, weight_dec)]\n",
    "    print ('lr {:.3f} dropout {:.1f} weight_dec {:.6f} train accuracy: {:.2f} val accuracy: {:.6f} '.format(\n",
    "                learn_rate, dropout, weight_dec, train_accuracy, val_accuracy))\n",
    "    \n",
    "print ('best validation accuracy achieved during validation: %f' % best_val)"
   ]
  },
  {
   "cell_type": "markdown",
   "metadata": {},
   "source": [
    "# Model Accuracy by Sentence Length"
   ]
  },
  {
   "cell_type": "code",
   "execution_count": 33,
   "metadata": {},
   "outputs": [],
   "source": [
    "# Create data with POS tagging and with lengths of sentences in each y\n",
    "X_train_pos, y_train_pos, X_val_pos, y_val_pos, X_test_pos, y_test_pos, sequence_length  = gen_data(df, curr_word2vec_model, True, True)\n",
    "y_train_pos_, y_val_pos_, y_test_pos_ = y_train_pos[:, 0], y_val_pos[:, 0], y_test_pos[:, 0] \n",
    "\n",
    "pos_train_dataset = torch.utils.data.TensorDataset(torch.from_numpy(X_train_pos).float(), torch.from_numpy(y_train_pos_).long())\n",
    "pos_train_loader =  torch.utils.data.DataLoader(pos_train_dataset, batch_size=batch_size, shuffle=False)\n",
    "\n",
    "pos_test_dataset = torch.utils.data.TensorDataset(torch.from_numpy(X_test_pos).float(), torch.from_numpy(y_test_pos_).long())\n",
    "pos_test_loader =  torch.utils.data.DataLoader(pos_test_dataset, batch_size=batch_size, shuffle=False)\n",
    "\n",
    "pos_val_dataset = torch.utils.data.TensorDataset(torch.from_numpy(X_val_pos).float(), torch.from_numpy(y_val_pos_).long())\n",
    "pos_val_loader =  torch.utils.data.DataLoader(pos_val_dataset, batch_size=batch_size, shuffle=False)\n",
    "\n",
    "pos_data_loader = {\"train\" : pos_train_loader, \"test\" : pos_test_loader, \"val\" : pos_val_loader}"
   ]
  },
  {
   "cell_type": "code",
   "execution_count": 34,
   "metadata": {},
   "outputs": [
    {
     "name": "stdout",
     "output_type": "stream",
     "text": [
      "-*-*-*-*-*-*-*-*-*-*\n",
      "Epoch 1/8\n",
      "train Loss: 0.1016  |  Acc: 0.9315 \n",
      "val Loss: 0.0583  |  Acc: 0.9508 \n",
      "-*-*-*-*-*-*-*-*-*-*\n",
      "Epoch 2/8\n",
      "train Loss: 0.1152  |  Acc: 0.9500 \n",
      "val Loss: 0.0501  |  Acc: 0.9487 \n",
      "-*-*-*-*-*-*-*-*-*-*\n",
      "Epoch 3/8\n",
      "train Loss: 0.0493  |  Acc: 0.9590 \n",
      "val Loss: 0.0156  |  Acc: 0.9605 \n",
      "-*-*-*-*-*-*-*-*-*-*\n",
      "Epoch 4/8\n",
      "train Loss: 0.0417  |  Acc: 0.9632 \n",
      "val Loss: 0.0165  |  Acc: 0.9609 \n",
      "-*-*-*-*-*-*-*-*-*-*\n",
      "Epoch 5/8\n",
      "train Loss: 0.0454  |  Acc: 0.9624 \n",
      "val Loss: 0.0164  |  Acc: 0.9609 \n",
      "-*-*-*-*-*-*-*-*-*-*\n",
      "Epoch 6/8\n",
      "train Loss: 0.0536  |  Acc: 0.9636 \n",
      "val Loss: 0.0164  |  Acc: 0.9609 \n",
      "-*-*-*-*-*-*-*-*-*-*\n",
      "Epoch 7/8\n",
      "train Loss: 0.0506  |  Acc: 0.9625 \n",
      "val Loss: 0.0164  |  Acc: 0.9609 \n",
      "-*-*-*-*-*-*-*-*-*-*\n",
      "Epoch 8/8\n",
      "train Loss: 0.0394  |  Acc: 0.9627 \n",
      "val Loss: 0.0164  |  Acc: 0.9609 \n"
     ]
    }
   ],
   "source": [
    "sequence_length = model_sentence_length\n",
    "input_size_pos =  word2vec_model_size + 1\n",
    "hidden_size_pos = input_size_pos  \n",
    "learning_rate = 5e-3\n",
    "lstm_dropout = 0.5\n",
    "alpha_dropout = 0.5\n",
    "weight_dec = 1e-5\n",
    "att_model = AttentionModel(input_size_pos, hidden_size_pos, num_layers, num_classes, lstm_dropout, \n",
    "                            sequence_length, alpha_dropout).to(device)\n",
    "\n",
    "criterion = nn.CrossEntropyLoss()\n",
    "optimizer = torch.optim.Adam(att_model.parameters(), lr=learning_rate, weight_decay=weight_dec)\n",
    "att_model = train_model(att_model, criterion, num_epochs, pos_data_loader, optimizer,\n",
    "                                             input_size_pos, sequence_length, verbose=True)\n",
    "\n",
    "res_pos = att_model(torch.from_numpy(X_val_pos).float().to(device)).to('cpu').detach().numpy()\n",
    "y_val = np.argmax(res_pos, axis=1)"
   ]
  },
  {
   "cell_type": "code",
   "execution_count": 35,
   "metadata": {},
   "outputs": [
    {
     "name": "stdout",
     "output_type": "stream",
     "text": [
      "Accuracy of sentences of at most 5 words is 0.9528301886792453\n",
      "Accuracy of sentences of at most 10 words is 0.969551282051282\n",
      "Accuracy of sentences of at most 15 words is 0.9694041867954911\n",
      "Accuracy of sentences bigger than 15 words is 0.9520078354554359\n"
     ]
    }
   ],
   "source": [
    "# go over results and obtain a detailed results according to length bins\n",
    "corr_5, total_5 = 0.0, 0.0\n",
    "corr_10, total_10 = 0.0, 0.0\n",
    "corr_15, total_15 = 0.0, 0.0\n",
    "corr_big, total_big = 0.0, 0.0\n",
    "\n",
    "for ii, _ in enumerate(y_test_pos_):\n",
    "    curr_sentence_size =  y_val_pos[ii, 1]\n",
    "    if max(y_val[ii], 0) == y_val_pos[ii, 0]:\n",
    "        if curr_sentence_size<=5:\n",
    "            corr_5+=1\n",
    "        elif curr_sentence_size<=10:\n",
    "            corr_10+=1\n",
    "        elif curr_sentence_size<=15:\n",
    "            corr_15+=1\n",
    "        else:\n",
    "            corr_big+=1\n",
    "    if curr_sentence_size<=5:\n",
    "        total_5+=1\n",
    "    elif curr_sentence_size<=10:\n",
    "        total_10+=1\n",
    "    elif curr_sentence_size<=15:\n",
    "        total_15+=1\n",
    "    else:\n",
    "        total_big+=1    \n",
    "    \n",
    "print(\"Accuracy of sentences of at most 5 words is {}\".format(corr_5/total_5))\n",
    "print(\"Accuracy of sentences of at most 10 words is {}\".format(corr_10/total_10))\n",
    "print(\"Accuracy of sentences of at most 15 words is {}\".format(corr_15/total_15))\n",
    "print(\"Accuracy of sentences bigger than 15 words is {}\".format(corr_big/total_big))"
   ]
  },
  {
   "cell_type": "code",
   "execution_count": 36,
   "metadata": {},
   "outputs": [
    {
     "name": "stdout",
     "output_type": "stream",
     "text": [
      "-*-*-*-*-*-*-*-*-*-*\n",
      "Epoch 1/8\n",
      "train Loss: 0.1816  |  Acc: 0.8710 \n",
      "val Loss: 0.0512  |  Acc: 0.9419 \n",
      "-*-*-*-*-*-*-*-*-*-*\n",
      "Epoch 2/8\n",
      "train Loss: 0.0965  |  Acc: 0.9396 \n",
      "val Loss: 0.0311  |  Acc: 0.9520 \n",
      "-*-*-*-*-*-*-*-*-*-*\n",
      "Epoch 3/8\n",
      "train Loss: 0.0903  |  Acc: 0.9502 \n",
      "val Loss: 0.0241  |  Acc: 0.9512 \n",
      "-*-*-*-*-*-*-*-*-*-*\n",
      "Epoch 4/8\n",
      "train Loss: 0.0912  |  Acc: 0.9519 \n",
      "val Loss: 0.0228  |  Acc: 0.9544 \n",
      "-*-*-*-*-*-*-*-*-*-*\n",
      "Epoch 5/8\n",
      "train Loss: 0.0903  |  Acc: 0.9517 \n",
      "val Loss: 0.0224  |  Acc: 0.9548 \n",
      "-*-*-*-*-*-*-*-*-*-*\n",
      "Epoch 6/8\n",
      "train Loss: 0.0905  |  Acc: 0.9524 \n",
      "val Loss: 0.0225  |  Acc: 0.9544 \n",
      "-*-*-*-*-*-*-*-*-*-*\n",
      "Epoch 7/8\n",
      "train Loss: 0.0905  |  Acc: 0.9524 \n",
      "val Loss: 0.0225  |  Acc: 0.9540 \n",
      "-*-*-*-*-*-*-*-*-*-*\n",
      "Epoch 8/8\n",
      "train Loss: 0.0906  |  Acc: 0.9523 \n",
      "val Loss: 0.0225  |  Acc: 0.9540 \n",
      "Accuracy of sentences of at most 5 words is 0.9433962264150944\n",
      "Accuracy of sentences of at most 10 words is 0.9519230769230769\n",
      "Accuracy of sentences of at most 15 words is 0.9710144927536232\n",
      "Accuracy of sentences bigger than 15 words is 0.9490695396669931\n"
     ]
    }
   ],
   "source": [
    "sequence_length = model_sentence_length\n",
    "input_size = word2vec_model_size + 1\n",
    "hidden_size = input_size\n",
    "num_layers = 2\n",
    "num_classes = 2\n",
    "batch_size = 64\n",
    "num_epochs = 8\n",
    "learning_rate = 0.005\n",
    "lstm_dropout = 0.1\n",
    "\n",
    "lstm_model = BiLSTM(input_size, hidden_size, num_layers, num_classes, lstm_dropout).to(device)\n",
    "\n",
    "# Loss and optimizer\n",
    "criterion = nn.CrossEntropyLoss()\n",
    "optimizer = torch.optim.Adam(lstm_model.parameters(), lr=learning_rate)\n",
    "lstm_model = train_model(lstm_model, criterion, num_epochs, pos_data_loader, optimizer, input_size, sequence_length)\n",
    "res_lstm = lstm_model(torch.from_numpy(X_val_pos).float().to(device)).to('cpu').detach().numpy()\n",
    "y_val = np.argmax(res_lstm, axis=1)\n",
    "\n",
    "# go over results and obtain a detailed results according to length bins\n",
    "corr_5, total_5 = 0.0, 0.0\n",
    "corr_10, total_10 = 0.0, 0.0\n",
    "corr_15, total_15 = 0.0, 0.0\n",
    "corr_big, total_big = 0.0, 0.0\n",
    "\n",
    "for ii, _ in enumerate(y_test_pos_):\n",
    "    curr_sentence_size =  y_val_pos[ii, 1]\n",
    "    if max(y_val[ii], 0) == y_val_pos[ii, 0]:\n",
    "        if curr_sentence_size<=5:\n",
    "            corr_5+=1\n",
    "        elif curr_sentence_size<=10:\n",
    "            corr_10+=1\n",
    "        elif curr_sentence_size<=15:\n",
    "            corr_15+=1\n",
    "        else:\n",
    "            corr_big+=1\n",
    "    if curr_sentence_size<=5:\n",
    "        total_5+=1\n",
    "    elif curr_sentence_size<=10:\n",
    "        total_10+=1\n",
    "    elif curr_sentence_size<=15:\n",
    "        total_15+=1\n",
    "    else:\n",
    "        total_big+=1    \n",
    "        \n",
    "print(\"Accuracy of sentences of at most 5 words is {}\".format(corr_5/total_5))\n",
    "print(\"Accuracy of sentences of at most 10 words is {}\".format(corr_10/total_10))\n",
    "print(\"Accuracy of sentences of at most 15 words is {}\".format(corr_15/total_15))\n",
    "print(\"Accuracy of sentences bigger than 15 words is {}\".format(corr_big/total_big))"
   ]
  },
  {
   "cell_type": "code",
   "execution_count": null,
   "metadata": {},
   "outputs": [],
   "source": []
  }
 ],
 "metadata": {
  "kernelspec": {
   "display_name": "Python 3",
   "language": "python",
   "name": "python3"
  },
  "language_info": {
   "codemirror_mode": {
    "name": "ipython",
    "version": 3
   },
   "file_extension": ".py",
   "mimetype": "text/x-python",
   "name": "python",
   "nbconvert_exporter": "python",
   "pygments_lexer": "ipython3",
   "version": "3.7.3"
  }
 },
 "nbformat": 4,
 "nbformat_minor": 2
}
